{
 "cells": [
  {
   "attachments": {},
   "cell_type": "markdown",
   "metadata": {},
   "source": [
    "# <center><b> <em> Data Preprocessing </em> </b></center>"
   ]
  },
  {
   "attachments": {},
   "cell_type": "markdown",
   "metadata": {},
   "source": [
    "## <font color=\"green\"> | - Import des Biblio et Dataframe</font>"
   ]
  },
  {
   "cell_type": "code",
   "execution_count": 1,
   "metadata": {},
   "outputs": [
    {
     "name": "stderr",
     "output_type": "stream",
     "text": [
      "/home/apprenant/miniconda3/envs/mlrecap_env/lib/python3.10/site-packages/tqdm/auto.py:21: TqdmWarning: IProgress not found. Please update jupyter and ipywidgets. See https://ipywidgets.readthedocs.io/en/stable/user_install.html\n",
      "  from .autonotebook import tqdm as notebook_tqdm\n"
     ]
    }
   ],
   "source": [
    "import numpy as np\n",
    "import pandas as pd\n",
    "import seaborn as sns\n",
    "import matplotlib.pyplot as plt\n",
    "from ydata_profiling import ProfileReport"
   ]
  },
  {
   "cell_type": "code",
   "execution_count": 2,
   "metadata": {},
   "outputs": [
    {
     "data": {
      "text/html": [
       "<div>\n",
       "<style scoped>\n",
       "    .dataframe tbody tr th:only-of-type {\n",
       "        vertical-align: middle;\n",
       "    }\n",
       "\n",
       "    .dataframe tbody tr th {\n",
       "        vertical-align: top;\n",
       "    }\n",
       "\n",
       "    .dataframe thead th {\n",
       "        text-align: right;\n",
       "    }\n",
       "</style>\n",
       "<table border=\"1\" class=\"dataframe\">\n",
       "  <thead>\n",
       "    <tr style=\"text-align: right;\">\n",
       "      <th></th>\n",
       "      <th>date_heure;date;heure;code_insee_region;region;consommation_brute_gaz_grtgaz;statut_grtgaz;consommation_brute_gaz_terega;statut_terega;consommation_brute_gaz_totale;consommation_brute_electricite_rte;statut_rte;consommation_brute_totale</th>\n",
       "    </tr>\n",
       "  </thead>\n",
       "  <tbody>\n",
       "    <tr>\n",
       "      <th>0</th>\n",
       "      <td>2013-01-21T09:00:00+01:00;2013-01-21;09:00;11;...</td>\n",
       "    </tr>\n",
       "    <tr>\n",
       "      <th>1</th>\n",
       "      <td>2013-01-21T09:00:00+01:00;2013-01-21;09:00;24;...</td>\n",
       "    </tr>\n",
       "    <tr>\n",
       "      <th>2</th>\n",
       "      <td>2013-01-21T09:00:00+01:00;2013-01-21;09:00;44;...</td>\n",
       "    </tr>\n",
       "    <tr>\n",
       "      <th>3</th>\n",
       "      <td>2013-01-21T09:00:00+01:00;2013-01-21;09:00;76;...</td>\n",
       "    </tr>\n",
       "    <tr>\n",
       "      <th>4</th>\n",
       "      <td>2013-01-21T09:00:00+01:00;2013-01-21;09:00;84;...</td>\n",
       "    </tr>\n",
       "  </tbody>\n",
       "</table>\n",
       "</div>"
      ],
      "text/plain": [
       "  date_heure;date;heure;code_insee_region;region;consommation_brute_gaz_grtgaz;statut_grtgaz;consommation_brute_gaz_terega;statut_terega;consommation_brute_gaz_totale;consommation_brute_electricite_rte;statut_rte;consommation_brute_totale\n",
       "0  2013-01-21T09:00:00+01:00;2013-01-21;09:00;11;...                                                                                                                                                                                          \n",
       "1  2013-01-21T09:00:00+01:00;2013-01-21;09:00;24;...                                                                                                                                                                                          \n",
       "2  2013-01-21T09:00:00+01:00;2013-01-21;09:00;44;...                                                                                                                                                                                          \n",
       "3  2013-01-21T09:00:00+01:00;2013-01-21;09:00;76;...                                                                                                                                                                                          \n",
       "4  2013-01-21T09:00:00+01:00;2013-01-21;09:00;84;...                                                                                                                                                                                          "
      ]
     },
     "execution_count": 2,
     "metadata": {},
     "output_type": "execute_result"
    }
   ],
   "source": [
    "df = pd.read_csv(\"../data/bronze.csv\")\n",
    "df.head()"
   ]
  },
  {
   "cell_type": "code",
   "execution_count": null,
   "metadata": {},
   "outputs": [],
   "source": [
    "555"
   ]
  }
 ],
 "metadata": {
  "kernelspec": {
   "display_name": "mlrecap_env",
   "language": "python",
   "name": "python3"
  },
  "language_info": {
   "codemirror_mode": {
    "name": "ipython",
    "version": 3
   },
   "file_extension": ".py",
   "mimetype": "text/x-python",
   "name": "python",
   "nbconvert_exporter": "python",
   "pygments_lexer": "ipython3",
   "version": "3.10.12"
  },
  "orig_nbformat": 4
 },
 "nbformat": 4,
 "nbformat_minor": 2
}
